{
 "cells": [
  {
   "cell_type": "markdown",
   "id": "95e53c16-e684-4f1e-b618-c6dfcfeea175",
   "metadata": {},
   "source": [
    "# CYCLISTIC BIKE-SHARE CASE STUDY"
   ]
  },
  {
   "cell_type": "markdown",
   "id": "4a24ee64-a169-45f7-ba9e-b858c0174ffe",
   "metadata": {},
   "source": [
    "### Scenario\n",
    "You are a junior data analyst working in the marketing analyst team at Cyclistic, a bike-share company in Chicago. The director\n",
    "of marketing believes the company’s future success depends on maximizing the number of annual memberships. Therefore,\n",
    "your team wants to understand how casual riders and annual members use Cyclistic bikes differently. From these insights,\n",
    "your team will design a new marketing strategy to convert casual riders into annual members. But first, Cyclistic executives\n",
    "must approve your recommendations, so they must be backed up with compelling data insights and professional data\n",
    "visualizations."
   ]
  },
  {
   "cell_type": "markdown",
   "id": "127dc816-4a87-4d08-9e85-b9a298789008",
   "metadata": {},
   "source": [
    "### About the company\n",
    "\n",
    "In 2016, Cyclistic launched a successful bike-share offering. Since then, the program has grown to a fleet of 5,824 bicycles that\n",
    "are geotracked and locked into a network of 692 stations across Chicago. The bikes can be unlocked from one station and\n",
    "returned to any other station in the system anytime.\n",
    "Until now, Cyclistic’s marketing strategy relied on building general awareness and appealing to broad consumer segments.\n",
    "One approach that helped make these things possible was the flexibility of its pricing plans: single-ride passes, full-day passes,\n",
    "and annual memberships. Customers who purchase single-ride or full-day passes are referred to as casual riders. Customers\n",
    "who purchase annual memberships are Cyclistic members.\n",
    "Cyclistic’s finance analysts have concluded that annual members are much more profitable than casual riders."
   ]
  },
  {
   "cell_type": "markdown",
   "id": "ba19fcaf-de52-445f-aee9-25e303d53a3a",
   "metadata": {},
   "source": [
    "### Stakeholders\n",
    "\n",
    "**Lily Moreno**: The director of marketing and your manager. Moreno is responsible for the development of campaigns\n",
    "and initiatives to promote the bike-share program. These may include email, social media, and other channels.  \n",
    "\n",
    "**Cyclistic marketing analytics team**: A team of data analysts who are responsible for collecting, analyzing, and\n",
    "reporting data that helps guide Cyclistic marketing strategy. You joined this team six months ago and have been busy\n",
    "learning about Cyclistic’s mission and business goals — as well as how you, as a junior data analyst, can help Cyclistic\n",
    "achieve them.  \n",
    "\n",
    "**Cyclistic executive team**: The notoriously detail-oriented executive team will decide whether to approve the\n",
    "recommended marketing program."
   ]
  },
  {
   "cell_type": "markdown",
   "id": "a1ffe713-09b0-478c-a9c4-e885724e4b4f",
   "metadata": {},
   "source": [
    "## 1. Ask\n",
    "How do annual members and casual riders use Cyclistic bikes differently?"
   ]
  },
  {
   "cell_type": "markdown",
   "id": "79bab1a6-e9e9-4d4a-8554-d08ce4331649",
   "metadata": {},
   "source": [
    "## 2. Prepare\n",
    "I have used Divvy Bike data obtained from the Divvy [Bike website](https://divvy-tripdata.s3.amazonaws.com/index.html).  \n",
    "\n",
    "We will be working with 12 CSV files, comprehending the datasets between ‘202106-divvy-tripdata’ and ‘202205-divvy-tripdata’. This data corresponds to the period between June 2021 and May 2021. Data was organized by month and saved as .csv files within .zip archives. I downloaded each month to my local computer and combined 12 months data into 1 csv file using python notebook.    \n",
    "\n",
    "The data source is reliable, original, comprehensive, current and cited. The data has been made available under this [license](https://ride.divvybikes.com/data-license-agreement).\n",
    "\n"
   ]
  },
  {
   "cell_type": "markdown",
   "id": "7eeafba9-a380-4a6c-b23f-5ce03ec85963",
   "metadata": {},
   "source": [
    "## 3. Process\n",
    "We will begin loading the libraries and data sets. Next, we'll perform data exploration by getting an overview of the data sets, checking the data types, and cleaning the data."
   ]
  },
  {
   "cell_type": "markdown",
   "id": "c5ffffe6-6cf1-46d3-86fe-2024ad17f6b2",
   "metadata": {},
   "source": [
    "#### **Import the corresponding libraries**"
   ]
  },
  {
   "cell_type": "code",
   "execution_count": 1,
   "id": "680538b0-e7cb-4652-8650-d8c540115da4",
   "metadata": {},
   "outputs": [],
   "source": [
    "import pandas as pd\n",
    "import numpy as np\n",
    "import datetime\n",
    "import matplotlib.pyplot as plt\n",
    "import seaborn as sns\n",
    "import warnings\n",
    "warnings.simplefilter('ignore')"
   ]
  },
  {
   "cell_type": "markdown",
   "id": "bad1892b-948d-4eab-bcfd-053b682bd3b3",
   "metadata": {},
   "source": [
    "#### **Load all 12 datasets and combine them into one.**"
   ]
  },
  {
   "cell_type": "code",
   "execution_count": 2,
   "id": "5b6aed93-80e7-4b4d-8e9e-eb96dcf96b0d",
   "metadata": {},
   "outputs": [],
   "source": [
    "df_2106 = pd.read_csv('202106-divvy-tripdata.csv')\n",
    "df_2107 = pd.read_csv('202107-divvy-tripdata.csv')\n",
    "df_2108 = pd.read_csv('202108-divvy-tripdata.csv')\n",
    "df_2109 = pd.read_csv('202109-divvy-tripdata.csv')\n",
    "df_2110 = pd.read_csv('202110-divvy-tripdata.csv')\n",
    "df_2111 = pd.read_csv('202111-divvy-tripdata.csv')\n",
    "df_2112 = pd.read_csv('202112-divvy-tripdata.csv')\n",
    "df_2201 = pd.read_csv('202201-divvy-tripdata.csv')\n",
    "df_2202 = pd.read_csv('202202-divvy-tripdata.csv')\n",
    "df_2203 = pd.read_csv('202203-divvy-tripdata.csv')\n",
    "df_2204 = pd.read_csv('202204-divvy-tripdata.csv')\n",
    "df_2205 = pd.read_csv('202205-divvy-tripdata.csv')\n",
    "\n",
    "data = pd.concat([df_2106,df_2107,df_2108,df_2109,df_2110,df_2111,df_2112,df_2201,df_2202,df_2203,df_2204,df_2205])"
   ]
  },
  {
   "cell_type": "code",
   "execution_count": 3,
   "id": "4200ec11-1728-4f5e-8211-bd9288ec376d",
   "metadata": {},
   "outputs": [
    {
     "data": {
      "text/html": [
       "<div>\n",
       "<style scoped>\n",
       "    .dataframe tbody tr th:only-of-type {\n",
       "        vertical-align: middle;\n",
       "    }\n",
       "\n",
       "    .dataframe tbody tr th {\n",
       "        vertical-align: top;\n",
       "    }\n",
       "\n",
       "    .dataframe thead th {\n",
       "        text-align: right;\n",
       "    }\n",
       "</style>\n",
       "<table border=\"1\" class=\"dataframe\">\n",
       "  <thead>\n",
       "    <tr style=\"text-align: right;\">\n",
       "      <th></th>\n",
       "      <th>ride_id</th>\n",
       "      <th>rideable_type</th>\n",
       "      <th>started_at</th>\n",
       "      <th>ended_at</th>\n",
       "      <th>start_station_name</th>\n",
       "      <th>start_station_id</th>\n",
       "      <th>end_station_name</th>\n",
       "      <th>end_station_id</th>\n",
       "      <th>start_lat</th>\n",
       "      <th>start_lng</th>\n",
       "      <th>end_lat</th>\n",
       "      <th>end_lng</th>\n",
       "      <th>member_casual</th>\n",
       "    </tr>\n",
       "  </thead>\n",
       "  <tbody>\n",
       "    <tr>\n",
       "      <th>338010</th>\n",
       "      <td>A3872C203263C257</td>\n",
       "      <td>electric_bike</td>\n",
       "      <td>2022-04-10 09:47:07</td>\n",
       "      <td>2022-04-10 09:51:05</td>\n",
       "      <td>Kingsbury St &amp; Erie St</td>\n",
       "      <td>13265</td>\n",
       "      <td>Desplaines St &amp; Kinzie St</td>\n",
       "      <td>TA1306000003</td>\n",
       "      <td>41.893649</td>\n",
       "      <td>-87.641458</td>\n",
       "      <td>41.888716</td>\n",
       "      <td>-87.644448</td>\n",
       "      <td>member</td>\n",
       "    </tr>\n",
       "    <tr>\n",
       "      <th>446867</th>\n",
       "      <td>E5F2FBEC914747C9</td>\n",
       "      <td>electric_bike</td>\n",
       "      <td>2021-10-17 10:44:49</td>\n",
       "      <td>2021-10-17 10:59:24</td>\n",
       "      <td>Racine Ave &amp; Washington Blvd</td>\n",
       "      <td>654</td>\n",
       "      <td>Wells St &amp; Concord Ln</td>\n",
       "      <td>TA1308000050</td>\n",
       "      <td>41.883074</td>\n",
       "      <td>-87.657032</td>\n",
       "      <td>41.911877</td>\n",
       "      <td>-87.634723</td>\n",
       "      <td>member</td>\n",
       "    </tr>\n",
       "    <tr>\n",
       "      <th>288958</th>\n",
       "      <td>127F02E0A8BAFB58</td>\n",
       "      <td>classic_bike</td>\n",
       "      <td>2021-09-04 18:28:32</td>\n",
       "      <td>2021-09-04 18:50:00</td>\n",
       "      <td>Greenview Ave &amp; Diversey Pkwy</td>\n",
       "      <td>13294</td>\n",
       "      <td>Clark St &amp; Lincoln Ave</td>\n",
       "      <td>13179</td>\n",
       "      <td>41.932590</td>\n",
       "      <td>-87.665936</td>\n",
       "      <td>41.915689</td>\n",
       "      <td>-87.634600</td>\n",
       "      <td>casual</td>\n",
       "    </tr>\n",
       "    <tr>\n",
       "      <th>40161</th>\n",
       "      <td>09A464A9B31AC796</td>\n",
       "      <td>electric_bike</td>\n",
       "      <td>2021-06-23 18:55:46</td>\n",
       "      <td>2021-06-23 19:04:29</td>\n",
       "      <td>Damen Ave &amp; Leland Ave</td>\n",
       "      <td>TA1307000158</td>\n",
       "      <td>Winthrop Ave &amp; Lawrence Ave</td>\n",
       "      <td>TA1308000021</td>\n",
       "      <td>41.967154</td>\n",
       "      <td>-87.678971</td>\n",
       "      <td>41.969039</td>\n",
       "      <td>-87.657713</td>\n",
       "      <td>member</td>\n",
       "    </tr>\n",
       "    <tr>\n",
       "      <th>78450</th>\n",
       "      <td>4A44BD98F200E1E8</td>\n",
       "      <td>classic_bike</td>\n",
       "      <td>2021-08-15 15:13:48</td>\n",
       "      <td>2021-08-15 15:29:29</td>\n",
       "      <td>2112 W Peterson Ave</td>\n",
       "      <td>KA1504000155</td>\n",
       "      <td>Warren Park East</td>\n",
       "      <td>RP-002</td>\n",
       "      <td>41.991178</td>\n",
       "      <td>-87.683593</td>\n",
       "      <td>42.004550</td>\n",
       "      <td>-87.680666</td>\n",
       "      <td>member</td>\n",
       "    </tr>\n",
       "    <tr>\n",
       "      <th>210907</th>\n",
       "      <td>3BCF49F718710B5B</td>\n",
       "      <td>classic_bike</td>\n",
       "      <td>2021-08-06 19:14:06</td>\n",
       "      <td>2021-08-06 19:24:41</td>\n",
       "      <td>Loomis St &amp; Lexington St</td>\n",
       "      <td>13332</td>\n",
       "      <td>Blue Island Ave &amp; 18th St</td>\n",
       "      <td>13135</td>\n",
       "      <td>41.872187</td>\n",
       "      <td>-87.661501</td>\n",
       "      <td>41.857556</td>\n",
       "      <td>-87.661535</td>\n",
       "      <td>member</td>\n",
       "    </tr>\n",
       "  </tbody>\n",
       "</table>\n",
       "</div>"
      ],
      "text/plain": [
       "                 ride_id  rideable_type           started_at  \\\n",
       "338010  A3872C203263C257  electric_bike  2022-04-10 09:47:07   \n",
       "446867  E5F2FBEC914747C9  electric_bike  2021-10-17 10:44:49   \n",
       "288958  127F02E0A8BAFB58   classic_bike  2021-09-04 18:28:32   \n",
       "40161   09A464A9B31AC796  electric_bike  2021-06-23 18:55:46   \n",
       "78450   4A44BD98F200E1E8   classic_bike  2021-08-15 15:13:48   \n",
       "210907  3BCF49F718710B5B   classic_bike  2021-08-06 19:14:06   \n",
       "\n",
       "                   ended_at             start_station_name start_station_id  \\\n",
       "338010  2022-04-10 09:51:05         Kingsbury St & Erie St            13265   \n",
       "446867  2021-10-17 10:59:24   Racine Ave & Washington Blvd              654   \n",
       "288958  2021-09-04 18:50:00  Greenview Ave & Diversey Pkwy            13294   \n",
       "40161   2021-06-23 19:04:29         Damen Ave & Leland Ave     TA1307000158   \n",
       "78450   2021-08-15 15:29:29            2112 W Peterson Ave     KA1504000155   \n",
       "210907  2021-08-06 19:24:41       Loomis St & Lexington St            13332   \n",
       "\n",
       "                   end_station_name end_station_id  start_lat  start_lng  \\\n",
       "338010    Desplaines St & Kinzie St   TA1306000003  41.893649 -87.641458   \n",
       "446867        Wells St & Concord Ln   TA1308000050  41.883074 -87.657032   \n",
       "288958       Clark St & Lincoln Ave          13179  41.932590 -87.665936   \n",
       "40161   Winthrop Ave & Lawrence Ave   TA1308000021  41.967154 -87.678971   \n",
       "78450              Warren Park East         RP-002  41.991178 -87.683593   \n",
       "210907    Blue Island Ave & 18th St          13135  41.872187 -87.661501   \n",
       "\n",
       "          end_lat    end_lng member_casual  \n",
       "338010  41.888716 -87.644448        member  \n",
       "446867  41.911877 -87.634723        member  \n",
       "288958  41.915689 -87.634600        casual  \n",
       "40161   41.969039 -87.657713        member  \n",
       "78450   42.004550 -87.680666        member  \n",
       "210907  41.857556 -87.661535        member  "
      ]
     },
     "execution_count": 3,
     "metadata": {},
     "output_type": "execute_result"
    }
   ],
   "source": [
    "data.sample(6)"
   ]
  },
  {
   "cell_type": "markdown",
   "id": "a239ef75-28b1-4d5d-a589-dcca8ebf8861",
   "metadata": {},
   "source": [
    "#### **How many rows and columns are there in the dataframe?**"
   ]
  },
  {
   "cell_type": "code",
   "execution_count": 4,
   "id": "7dd8e5f3-36f7-4fab-b088-c1388ba0e6ed",
   "metadata": {},
   "outputs": [
    {
     "data": {
      "text/plain": [
       "(5860776, 13)"
      ]
     },
     "execution_count": 4,
     "metadata": {},
     "output_type": "execute_result"
    }
   ],
   "source": [
    "data.shape # We have 5860776 rows and 13 columns"
   ]
  },
  {
   "cell_type": "markdown",
   "id": "d88d79c4-a511-43a8-a084-e62c249b5fb0",
   "metadata": {},
   "source": [
    "#### **Checking the data types in the dataset**"
   ]
  },
  {
   "cell_type": "code",
   "execution_count": 5,
   "id": "2f8a47c8-8677-46da-8ca4-e20a5c0cc96d",
   "metadata": {},
   "outputs": [
    {
     "name": "stdout",
     "output_type": "stream",
     "text": [
      "<class 'pandas.core.frame.DataFrame'>\n",
      "Int64Index: 5860776 entries, 0 to 634857\n",
      "Data columns (total 13 columns):\n",
      " #   Column              Dtype  \n",
      "---  ------              -----  \n",
      " 0   ride_id             object \n",
      " 1   rideable_type       object \n",
      " 2   started_at          object \n",
      " 3   ended_at            object \n",
      " 4   start_station_name  object \n",
      " 5   start_station_id    object \n",
      " 6   end_station_name    object \n",
      " 7   end_station_id      object \n",
      " 8   start_lat           float64\n",
      " 9   start_lng           float64\n",
      " 10  end_lat             float64\n",
      " 11  end_lng             float64\n",
      " 12  member_casual       object \n",
      "dtypes: float64(4), object(9)\n",
      "memory usage: 626.0+ MB\n"
     ]
    }
   ],
   "source": [
    "data.info()"
   ]
  },
  {
   "cell_type": "markdown",
   "id": "c1e08083-e5b5-4d8d-940d-526ae0fe29a1",
   "metadata": {},
   "source": [
    "#### **Check for null values**"
   ]
  },
  {
   "cell_type": "code",
   "execution_count": 6,
   "id": "ff3150f8-f195-4b7f-9409-5095f034c6e1",
   "metadata": {},
   "outputs": [
    {
     "data": {
      "text/plain": [
       "ride_id                0.000000\n",
       "rideable_type          0.000000\n",
       "started_at             0.000000\n",
       "ended_at               0.000000\n",
       "start_station_name    14.045358\n",
       "start_station_id      14.045307\n",
       "end_station_name      14.986718\n",
       "end_station_id        14.986718\n",
       "start_lat              0.000000\n",
       "start_lng              0.000000\n",
       "end_lat                0.085927\n",
       "end_lng                0.085927\n",
       "member_casual          0.000000\n",
       "dtype: float64"
      ]
     },
     "execution_count": 6,
     "metadata": {},
     "output_type": "execute_result"
    }
   ],
   "source": [
    "data.isna().sum()/data.shape[0] * 100"
   ]
  },
  {
   "cell_type": "markdown",
   "id": "22de7f37-5d03-41d1-9388-26050bbb7052",
   "metadata": {},
   "source": [
    "##### Columns that have null values ​​are not needed for our analysis, so by removing them we won't lose any relevant information."
   ]
  },
  {
   "cell_type": "code",
   "execution_count": null,
   "id": "14f50fd1-77fc-424e-9308-a0ea7a75156d",
   "metadata": {},
   "outputs": [],
   "source": []
  },
  {
   "cell_type": "markdown",
   "id": "2d17a341-7682-4a23-a6d2-45d928fc9311",
   "metadata": {},
   "source": [
    "#### **We reset the index because when combining the datasets they are duplicated.**    \n",
    "#### **Drop unnecesary columns.**    \n",
    "#### **Remove duplicates if any.**"
   ]
  },
  {
   "cell_type": "code",
   "execution_count": 7,
   "id": "51f6c0c0-6fdd-48a9-9a56-8d8191873d85",
   "metadata": {},
   "outputs": [],
   "source": [
    "data.reset_index(inplace=True)\n",
    "data = data.drop(columns = ['index', 'start_station_name', 'start_station_id', 'end_station_name', 'end_station_id', 'start_lat', 'start_lng', 'end_lat', 'end_lng'])\n",
    "data = data.drop_duplicates()"
   ]
  },
  {
   "cell_type": "code",
   "execution_count": 8,
   "id": "a462eab5-1c7a-4cad-a938-8270bbd10c0a",
   "metadata": {},
   "outputs": [
    {
     "data": {
      "text/plain": [
       "(5860776, 5)"
      ]
     },
     "execution_count": 8,
     "metadata": {},
     "output_type": "execute_result"
    }
   ],
   "source": [
    "data.shape # We have sames rows and only 5 columns."
   ]
  },
  {
   "cell_type": "code",
   "execution_count": 9,
   "id": "7a078aa1-aae1-4d80-855e-2c30f9ae6395",
   "metadata": {},
   "outputs": [
    {
     "data": {
      "text/plain": [
       "ride_id          0.0\n",
       "rideable_type    0.0\n",
       "started_at       0.0\n",
       "ended_at         0.0\n",
       "member_casual    0.0\n",
       "dtype: float64"
      ]
     },
     "execution_count": 9,
     "metadata": {},
     "output_type": "execute_result"
    }
   ],
   "source": [
    "data.isna().sum()/data.shape[0] * 100"
   ]
  },
  {
   "cell_type": "code",
   "execution_count": 10,
   "id": "fbd78dfa-d7a0-4a19-a4f2-23025a1b0d59",
   "metadata": {},
   "outputs": [
    {
     "data": {
      "text/html": [
       "<div>\n",
       "<style scoped>\n",
       "    .dataframe tbody tr th:only-of-type {\n",
       "        vertical-align: middle;\n",
       "    }\n",
       "\n",
       "    .dataframe tbody tr th {\n",
       "        vertical-align: top;\n",
       "    }\n",
       "\n",
       "    .dataframe thead th {\n",
       "        text-align: right;\n",
       "    }\n",
       "</style>\n",
       "<table border=\"1\" class=\"dataframe\">\n",
       "  <thead>\n",
       "    <tr style=\"text-align: right;\">\n",
       "      <th></th>\n",
       "      <th>ride_id</th>\n",
       "      <th>rideable_type</th>\n",
       "      <th>started_at</th>\n",
       "      <th>ended_at</th>\n",
       "      <th>member_casual</th>\n",
       "    </tr>\n",
       "  </thead>\n",
       "  <tbody>\n",
       "    <tr>\n",
       "      <th>0</th>\n",
       "      <td>99FEC93BA843FB20</td>\n",
       "      <td>electric_bike</td>\n",
       "      <td>2021-06-13 14:31:28</td>\n",
       "      <td>2021-06-13 14:34:11</td>\n",
       "      <td>member</td>\n",
       "    </tr>\n",
       "    <tr>\n",
       "      <th>1</th>\n",
       "      <td>06048DCFC8520CAF</td>\n",
       "      <td>electric_bike</td>\n",
       "      <td>2021-06-04 11:18:02</td>\n",
       "      <td>2021-06-04 11:24:19</td>\n",
       "      <td>member</td>\n",
       "    </tr>\n",
       "    <tr>\n",
       "      <th>2</th>\n",
       "      <td>9598066F68045DF2</td>\n",
       "      <td>electric_bike</td>\n",
       "      <td>2021-06-04 09:49:35</td>\n",
       "      <td>2021-06-04 09:55:34</td>\n",
       "      <td>member</td>\n",
       "    </tr>\n",
       "    <tr>\n",
       "      <th>3</th>\n",
       "      <td>B03C0FE48C412214</td>\n",
       "      <td>electric_bike</td>\n",
       "      <td>2021-06-03 19:56:05</td>\n",
       "      <td>2021-06-03 20:21:55</td>\n",
       "      <td>member</td>\n",
       "    </tr>\n",
       "    <tr>\n",
       "      <th>4</th>\n",
       "      <td>B9EEA89F8FEE73B7</td>\n",
       "      <td>electric_bike</td>\n",
       "      <td>2021-06-04 14:05:51</td>\n",
       "      <td>2021-06-04 14:09:59</td>\n",
       "      <td>member</td>\n",
       "    </tr>\n",
       "  </tbody>\n",
       "</table>\n",
       "</div>"
      ],
      "text/plain": [
       "            ride_id  rideable_type           started_at             ended_at  \\\n",
       "0  99FEC93BA843FB20  electric_bike  2021-06-13 14:31:28  2021-06-13 14:34:11   \n",
       "1  06048DCFC8520CAF  electric_bike  2021-06-04 11:18:02  2021-06-04 11:24:19   \n",
       "2  9598066F68045DF2  electric_bike  2021-06-04 09:49:35  2021-06-04 09:55:34   \n",
       "3  B03C0FE48C412214  electric_bike  2021-06-03 19:56:05  2021-06-03 20:21:55   \n",
       "4  B9EEA89F8FEE73B7  electric_bike  2021-06-04 14:05:51  2021-06-04 14:09:59   \n",
       "\n",
       "  member_casual  \n",
       "0        member  \n",
       "1        member  \n",
       "2        member  \n",
       "3        member  \n",
       "4        member  "
      ]
     },
     "execution_count": 10,
     "metadata": {},
     "output_type": "execute_result"
    }
   ],
   "source": [
    "data.head()"
   ]
  },
  {
   "cell_type": "markdown",
   "id": "6ca5e9c2-7b0c-4a52-9a1e-7bbd6736eb48",
   "metadata": {},
   "source": [
    "## 4. Analyze"
   ]
  },
  {
   "cell_type": "markdown",
   "id": "cb2531f9-e826-4851-9d4c-d59dbd554f2e",
   "metadata": {},
   "source": [
    "#### **We need to change the data type from columns started_at and ended_at to datetime to perform calculations.**"
   ]
  },
  {
   "cell_type": "code",
   "execution_count": 11,
   "id": "77924edf-2ed4-4036-80ab-221e2c15aa98",
   "metadata": {},
   "outputs": [],
   "source": [
    "data.started_at = pd.to_datetime(data.started_at)\n",
    "\n",
    "data.ended_at = pd.to_datetime(data.ended_at)"
   ]
  },
  {
   "cell_type": "markdown",
   "id": "f9ff53ca-3f69-4e6f-85d3-d04acaad4c6e",
   "metadata": {},
   "source": [
    "#### **Creating a ride length column.**  \n",
    "  ##### The column will have a data type of timedelta in minutes, so we need to change it to int."
   ]
  },
  {
   "cell_type": "code",
   "execution_count": 12,
   "id": "ce07507e-fc01-4847-8601-d7f39bb072e3",
   "metadata": {},
   "outputs": [],
   "source": [
    "data['ride_length'] = (data.ended_at - data.started_at) / datetime.timedelta(minutes=1)\n",
    "data.ride_length = data.ride_length.astype('int32')"
   ]
  },
  {
   "cell_type": "markdown",
   "id": "1e4e2214-db07-43a7-8127-c69b721d1628",
   "metadata": {},
   "source": [
    "#### **Creating a day of the week column.**"
   ]
  },
  {
   "cell_type": "code",
   "execution_count": 13,
   "id": "cfd19121-7502-45d8-bb63-bf8e8d45623b",
   "metadata": {},
   "outputs": [],
   "source": [
    "data['day_of_week'] = data.started_at.dt.day_name()"
   ]
  },
  {
   "cell_type": "markdown",
   "id": "ac996b31-3b0f-4d4b-8b73-9a38e01d97d3",
   "metadata": {},
   "source": [
    "#### **Removing outliers.**\n",
    "  ##### We need to check if there are ride length values ​​that are equal to or less than 0, and also those that exceed 1440 minutes, which would correspond to a whole day and could interfere with our analysis."
   ]
  },
  {
   "cell_type": "code",
   "execution_count": 14,
   "id": "af70965c-208a-428a-9525-dd1a1f4265d2",
   "metadata": {},
   "outputs": [
    {
     "data": {
      "image/png": "[encoded data removed]",
      "text/plain": [
       "<Figure size 1152x720 with 1 Axes>"
      ]
     },
     "metadata": {
      "needs_background": "light"
     },
     "output_type": "display_data"
    }
   ],
   "source": [
    "plt.figure(figsize=(16,10))\n",
    "sns.violinplot(x=data.ride_length, data=data)\n",
    "plt.show();"
   ]
  },
  {
   "cell_type": "markdown",
   "id": "6be0e3d6-f4f3-4937-9244-a647db1c5603",
   "metadata": {},
   "source": [
    "#### **How many rows are equal to or less than 0?**"
   ]
  },
  {
   "cell_type": "code",
   "execution_count": 15,
   "id": "5d02dafa-64b4-4795-8c15-ad2edb4e9206",
   "metadata": {},
   "outputs": [
    {
     "data": {
      "text/plain": [
       "95907"
      ]
     },
     "execution_count": 15,
     "metadata": {},
     "output_type": "execute_result"
    }
   ],
   "source": [
    "len(data.loc[data.ride_length <= 0])"
   ]
  },
  {
   "cell_type": "markdown",
   "id": "b7d64739-f6e7-426c-a50c-663fc3c94cc9",
   "metadata": {},
   "source": [
    "#### **How many rows exceed 1440 minutes?**"
   ]
  },
  {
   "cell_type": "code",
   "execution_count": 16,
   "id": "153839f6-bd26-4760-b8a4-1d19578b23f2",
   "metadata": {},
   "outputs": [
    {
     "data": {
      "text/plain": [
       "4406"
      ]
     },
     "execution_count": 16,
     "metadata": {},
     "output_type": "execute_result"
    }
   ],
   "source": [
    "len(data.loc[data.ride_length >= 1440])"
   ]
  },
  {
   "cell_type": "markdown",
   "id": "99c6452c-2823-4d3d-8a03-4722221c6f93",
   "metadata": {},
   "source": [
    "#### **Drop the outliers.**\n",
    " ##### We have deleted 100313 rows."
   ]
  },
  {
   "cell_type": "code",
   "execution_count": 17,
   "id": "9664f3f7-d441-4422-8c84-9a3701429e69",
   "metadata": {},
   "outputs": [],
   "source": [
    "data = data.drop(data[(data.ride_length <= 0) | (data.ride_length > 1440)].index)"
   ]
  },
  {
   "cell_type": "code",
   "execution_count": 18,
   "id": "a105e363-ce02-455b-a8e3-1b9e61176a25",
   "metadata": {},
   "outputs": [
    {
     "data": {
      "text/plain": [
       "(5760465, 7)"
      ]
     },
     "execution_count": 18,
     "metadata": {},
     "output_type": "execute_result"
    }
   ],
   "source": [
    "data.shape "
   ]
  },
  {
   "cell_type": "markdown",
   "id": "d72898f7-880a-4527-9ac1-ded06f53e0d8",
   "metadata": {},
   "source": [
    "#### Now our dataset looks like this."
   ]
  },
  {
   "cell_type": "code",
   "execution_count": 19,
   "id": "fcfd9a01-9a07-4325-a035-b6ad9df9948b",
   "metadata": {},
   "outputs": [
    {
     "data": {
      "text/html": [
       "<div>\n",
       "<style scoped>\n",
       "    .dataframe tbody tr th:only-of-type {\n",
       "        vertical-align: middle;\n",
       "    }\n",
       "\n",
       "    .dataframe tbody tr th {\n",
       "        vertical-align: top;\n",
       "    }\n",
       "\n",
       "    .dataframe thead th {\n",
       "        text-align: right;\n",
       "    }\n",
       "</style>\n",
       "<table border=\"1\" class=\"dataframe\">\n",
       "  <thead>\n",
       "    <tr style=\"text-align: right;\">\n",
       "      <th></th>\n",
       "      <th>ride_id</th>\n",
       "      <th>rideable_type</th>\n",
       "      <th>started_at</th>\n",
       "      <th>ended_at</th>\n",
       "      <th>member_casual</th>\n",
       "      <th>ride_length</th>\n",
       "      <th>day_of_week</th>\n",
       "    </tr>\n",
       "  </thead>\n",
       "  <tbody>\n",
       "    <tr>\n",
       "      <th>0</th>\n",
       "      <td>99FEC93BA843FB20</td>\n",
       "      <td>electric_bike</td>\n",
       "      <td>2021-06-13 14:31:28</td>\n",
       "      <td>2021-06-13 14:34:11</td>\n",
       "      <td>member</td>\n",
       "      <td>2</td>\n",
       "      <td>Sunday</td>\n",
       "    </tr>\n",
       "    <tr>\n",
       "      <th>1</th>\n",
       "      <td>06048DCFC8520CAF</td>\n",
       "      <td>electric_bike</td>\n",
       "      <td>2021-06-04 11:18:02</td>\n",
       "      <td>2021-06-04 11:24:19</td>\n",
       "      <td>member</td>\n",
       "      <td>6</td>\n",
       "      <td>Friday</td>\n",
       "    </tr>\n",
       "    <tr>\n",
       "      <th>2</th>\n",
       "      <td>9598066F68045DF2</td>\n",
       "      <td>electric_bike</td>\n",
       "      <td>2021-06-04 09:49:35</td>\n",
       "      <td>2021-06-04 09:55:34</td>\n",
       "      <td>member</td>\n",
       "      <td>5</td>\n",
       "      <td>Friday</td>\n",
       "    </tr>\n",
       "    <tr>\n",
       "      <th>3</th>\n",
       "      <td>B03C0FE48C412214</td>\n",
       "      <td>electric_bike</td>\n",
       "      <td>2021-06-03 19:56:05</td>\n",
       "      <td>2021-06-03 20:21:55</td>\n",
       "      <td>member</td>\n",
       "      <td>25</td>\n",
       "      <td>Thursday</td>\n",
       "    </tr>\n",
       "    <tr>\n",
       "      <th>4</th>\n",
       "      <td>B9EEA89F8FEE73B7</td>\n",
       "      <td>electric_bike</td>\n",
       "      <td>2021-06-04 14:05:51</td>\n",
       "      <td>2021-06-04 14:09:59</td>\n",
       "      <td>member</td>\n",
       "      <td>4</td>\n",
       "      <td>Friday</td>\n",
       "    </tr>\n",
       "  </tbody>\n",
       "</table>\n",
       "</div>"
      ],
      "text/plain": [
       "            ride_id  rideable_type          started_at            ended_at  \\\n",
       "0  99FEC93BA843FB20  electric_bike 2021-06-13 14:31:28 2021-06-13 14:34:11   \n",
       "1  06048DCFC8520CAF  electric_bike 2021-06-04 11:18:02 2021-06-04 11:24:19   \n",
       "2  9598066F68045DF2  electric_bike 2021-06-04 09:49:35 2021-06-04 09:55:34   \n",
       "3  B03C0FE48C412214  electric_bike 2021-06-03 19:56:05 2021-06-03 20:21:55   \n",
       "4  B9EEA89F8FEE73B7  electric_bike 2021-06-04 14:05:51 2021-06-04 14:09:59   \n",
       "\n",
       "  member_casual  ride_length day_of_week  \n",
       "0        member            2      Sunday  \n",
       "1        member            6      Friday  \n",
       "2        member            5      Friday  \n",
       "3        member           25    Thursday  \n",
       "4        member            4      Friday  "
      ]
     },
     "execution_count": 19,
     "metadata": {},
     "output_type": "execute_result"
    }
   ],
   "source": [
    "data.head()"
   ]
  },
  {
   "cell_type": "markdown",
   "id": "11217bcc-89f4-4e25-a184-7e96f2e81d08",
   "metadata": {},
   "source": [
    "#### Mean of ride length by users"
   ]
  },
  {
   "cell_type": "code",
   "execution_count": 20,
   "id": "e4754b24-8141-42be-a597-e94df64f1faf",
   "metadata": {},
   "outputs": [
    {
     "data": {
      "text/html": [
       "<div>\n",
       "<style scoped>\n",
       "    .dataframe tbody tr th:only-of-type {\n",
       "        vertical-align: middle;\n",
       "    }\n",
       "\n",
       "    .dataframe tbody tr th {\n",
       "        vertical-align: top;\n",
       "    }\n",
       "\n",
       "    .dataframe thead th {\n",
       "        text-align: right;\n",
       "    }\n",
       "</style>\n",
       "<table border=\"1\" class=\"dataframe\">\n",
       "  <thead>\n",
       "    <tr style=\"text-align: right;\">\n",
       "      <th></th>\n",
       "      <th>ride_length</th>\n",
       "    </tr>\n",
       "    <tr>\n",
       "      <th>member_casual</th>\n",
       "      <th></th>\n",
       "    </tr>\n",
       "  </thead>\n",
       "  <tbody>\n",
       "    <tr>\n",
       "      <th>casual</th>\n",
       "      <td>25.378824</td>\n",
       "    </tr>\n",
       "    <tr>\n",
       "      <th>member</th>\n",
       "      <td>12.536393</td>\n",
       "    </tr>\n",
       "  </tbody>\n",
       "</table>\n",
       "</div>"
      ],
      "text/plain": [
       "               ride_length\n",
       "member_casual             \n",
       "casual           25.378824\n",
       "member           12.536393"
      ]
     },
     "execution_count": 20,
     "metadata": {},
     "output_type": "execute_result"
    }
   ],
   "source": [
    "data.groupby('member_casual', as_index=True)[['ride_length']].mean()"
   ]
  },
  {
   "cell_type": "markdown",
   "id": "f9ef37dd-4247-4de3-ae23-7c36fb2b727d",
   "metadata": {},
   "source": [
    "#### Max ride length by users after the analysis."
   ]
  },
  {
   "cell_type": "code",
   "execution_count": 21,
   "id": "709ea590-64c5-4c3e-ae24-94a49cfa2cb4",
   "metadata": {},
   "outputs": [
    {
     "data": {
      "text/html": [
       "<div>\n",
       "<style scoped>\n",
       "    .dataframe tbody tr th:only-of-type {\n",
       "        vertical-align: middle;\n",
       "    }\n",
       "\n",
       "    .dataframe tbody tr th {\n",
       "        vertical-align: top;\n",
       "    }\n",
       "\n",
       "    .dataframe thead th {\n",
       "        text-align: right;\n",
       "    }\n",
       "</style>\n",
       "<table border=\"1\" class=\"dataframe\">\n",
       "  <thead>\n",
       "    <tr style=\"text-align: right;\">\n",
       "      <th></th>\n",
       "      <th>ride_length</th>\n",
       "    </tr>\n",
       "    <tr>\n",
       "      <th>member_casual</th>\n",
       "      <th></th>\n",
       "    </tr>\n",
       "  </thead>\n",
       "  <tbody>\n",
       "    <tr>\n",
       "      <th>casual</th>\n",
       "      <td>1440</td>\n",
       "    </tr>\n",
       "    <tr>\n",
       "      <th>member</th>\n",
       "      <td>1439</td>\n",
       "    </tr>\n",
       "  </tbody>\n",
       "</table>\n",
       "</div>"
      ],
      "text/plain": [
       "               ride_length\n",
       "member_casual             \n",
       "casual                1440\n",
       "member                1439"
      ]
     },
     "execution_count": 21,
     "metadata": {},
     "output_type": "execute_result"
    }
   ],
   "source": [
    "data.groupby('member_casual', as_index=True)[['ride_length']].max()"
   ]
  },
  {
   "cell_type": "markdown",
   "id": "acdb3f75-94b0-41cf-91da-b52b2007da1a",
   "metadata": {},
   "source": [
    "### Mode of day of week"
   ]
  },
  {
   "cell_type": "code",
   "execution_count": 30,
   "id": "5e1f7f5b-a4b8-43ed-88f5-fb1d507bb7a0",
   "metadata": {},
   "outputs": [
    {
     "data": {
      "text/plain": [
       "0    Saturday\n",
       "dtype: object"
      ]
     },
     "execution_count": 30,
     "metadata": {},
     "output_type": "execute_result"
    }
   ],
   "source": [
    "data.day_of_week.mode()"
   ]
  },
  {
   "cell_type": "code",
   "execution_count": null,
   "id": "48801f06-9734-40db-8c8e-c317f481606a",
   "metadata": {},
   "outputs": [],
   "source": []
  },
  {
   "cell_type": "markdown",
   "id": "707096bf-ffb3-4a68-bd27-428af01c299e",
   "metadata": {},
   "source": [
    "## 5. Share"
   ]
  },
  {
   "cell_type": "markdown",
   "id": "90471a38-a739-4aa0-b983-957efa1c0562",
   "metadata": {},
   "source": [
    "#### **Visualizing Rides by User Type.**"
   ]
  },
  {
   "cell_type": "code",
   "execution_count": 33,
   "id": "80885104-5f77-4c81-9dcd-8e8d499d7aac",
   "metadata": {},
   "outputs": [
    {
     "data": {
      "image/png": "[encoded data removed]",
      "text/plain": [
       "<Figure size 864x576 with 1 Axes>"
      ]
     },
     "metadata": {},
     "output_type": "display_data"
    }
   ],
   "source": [
    "data.member_casual.value_counts(normalize=True).plot(kind='pie',\n",
    "                                                     autopct='%1.0f%%',\n",
    "                                                     startangle=105,\n",
    "                                                     title='Rides by User Type',\n",
    "                                                     figsize=(12, 8),\n",
    "                                                     colors=['#F97306','#069AF3'],\n",
    "                                                     fontsize='16');"
   ]
  },
  {
   "cell_type": "markdown",
   "id": "0b418d0f-13db-414e-8f58-ca803097757a",
   "metadata": {},
   "source": [
    "#### **Visualizing Average Ride Length.**"
   ]
  },
  {
   "cell_type": "code",
   "execution_count": 24,
   "id": "2868265f-695b-46f7-9659-29ba817b20f6",
   "metadata": {},
   "outputs": [
    {
     "data": {
      "image/png": "[encoded data removed]",
      "text/plain": [
       "<Figure size 720x432 with 1 Axes>"
      ]
     },
     "metadata": {
      "needs_background": "light"
     },
     "output_type": "display_data"
    },
    {
     "data": {
      "text/plain": [
       "member_casual\n",
       "casual    25.378824\n",
       "member    12.536393\n",
       "Name: ride_length, dtype: float64"
      ]
     },
     "execution_count": 24,
     "metadata": {},
     "output_type": "execute_result"
    }
   ],
   "source": [
    "df=data.groupby(['member_casual']).mean().ride_length\n",
    "    \n",
    "ax=df.plot(kind='bar',\n",
    "                grid=True,\n",
    "                figsize=(10, 6),\n",
    "                color=['#069AF3', '#F97306'])\n",
    "\n",
    "ax.set_title('Average Ride Length')\n",
    "ax.set_ylabel('Minutes')\n",
    "ax.set_xlabel('User')\n",
    "\n",
    "plt.show();\n",
    "    \n",
    "df"
   ]
  },
  {
   "cell_type": "markdown",
   "id": "6c8e2f34-a7ee-4ecd-bd15-d67c843e8006",
   "metadata": {},
   "source": [
    "#### **Visualizing Average Ride Length by Day of the Week.**"
   ]
  },
  {
   "cell_type": "code",
   "execution_count": 25,
   "id": "72d5b340-23d2-41e4-9ab5-9775085928a8",
   "metadata": {},
   "outputs": [
    {
     "data": {
      "image/png": "[encoded data removed]",
      "text/plain": [
       "<Figure size 864x432 with 1 Axes>"
      ]
     },
     "metadata": {
      "needs_background": "light"
     },
     "output_type": "display_data"
    },
    {
     "data": {
      "text/html": [
       "<div>\n",
       "<style scoped>\n",
       "    .dataframe tbody tr th:only-of-type {\n",
       "        vertical-align: middle;\n",
       "    }\n",
       "\n",
       "    .dataframe tbody tr th {\n",
       "        vertical-align: top;\n",
       "    }\n",
       "\n",
       "    .dataframe thead th {\n",
       "        text-align: right;\n",
       "    }\n",
       "</style>\n",
       "<table border=\"1\" class=\"dataframe\">\n",
       "  <thead>\n",
       "    <tr style=\"text-align: right;\">\n",
       "      <th>member_casual</th>\n",
       "      <th>casual</th>\n",
       "      <th>member</th>\n",
       "    </tr>\n",
       "    <tr>\n",
       "      <th>day_of_week</th>\n",
       "      <th></th>\n",
       "      <th></th>\n",
       "    </tr>\n",
       "  </thead>\n",
       "  <tbody>\n",
       "    <tr>\n",
       "      <th>Friday</th>\n",
       "      <td>23.747910</td>\n",
       "      <td>12.282039</td>\n",
       "    </tr>\n",
       "    <tr>\n",
       "      <th>Monday</th>\n",
       "      <td>25.714089</td>\n",
       "      <td>12.131111</td>\n",
       "    </tr>\n",
       "    <tr>\n",
       "      <th>Saturday</th>\n",
       "      <td>27.824013</td>\n",
       "      <td>14.123537</td>\n",
       "    </tr>\n",
       "    <tr>\n",
       "      <th>Sunday</th>\n",
       "      <td>29.111667</td>\n",
       "      <td>14.233828</td>\n",
       "    </tr>\n",
       "    <tr>\n",
       "      <th>Thursday</th>\n",
       "      <td>22.454282</td>\n",
       "      <td>11.911348</td>\n",
       "    </tr>\n",
       "    <tr>\n",
       "      <th>Tuesday</th>\n",
       "      <td>22.685356</td>\n",
       "      <td>11.767745</td>\n",
       "    </tr>\n",
       "    <tr>\n",
       "      <th>Wednesday</th>\n",
       "      <td>22.135659</td>\n",
       "      <td>11.865768</td>\n",
       "    </tr>\n",
       "  </tbody>\n",
       "</table>\n",
       "</div>"
      ],
      "text/plain": [
       "member_casual     casual     member\n",
       "day_of_week                        \n",
       "Friday         23.747910  12.282039\n",
       "Monday         25.714089  12.131111\n",
       "Saturday       27.824013  14.123537\n",
       "Sunday         29.111667  14.233828\n",
       "Thursday       22.454282  11.911348\n",
       "Tuesday        22.685356  11.767745\n",
       "Wednesday      22.135659  11.865768"
      ]
     },
     "execution_count": 25,
     "metadata": {},
     "output_type": "execute_result"
    }
   ],
   "source": [
    "df=data.groupby(['day_of_week','member_casual']).mean().ride_length\n",
    "    \n",
    "df=df.unstack().fillna(0)\n",
    "    \n",
    "ax=df.plot(kind='line',\n",
    "                grid=True,\n",
    "                figsize=(12, 6),\n",
    "                color=['#069AF3', '#F97306'])\n",
    "\n",
    "ax.set_title('Average Ride Length')\n",
    "ax.set_ylabel('Average minutes')\n",
    "ax.set_xlabel('Day of week')\n",
    "\n",
    "plt.show();\n",
    "    \n",
    "df"
   ]
  },
  {
   "cell_type": "markdown",
   "id": "6d970a2a-d64e-4205-ab84-8c0c9301f99a",
   "metadata": {},
   "source": [
    "#### **Visualizing total ride_ids by Day of the Week and Member_Casual.**"
   ]
  },
  {
   "cell_type": "code",
   "execution_count": 26,
   "id": "e281ce51-d285-4820-b463-9ea0d6071d2e",
   "metadata": {},
   "outputs": [
    {
     "data": {
      "image/png": "[encoded data removed]",
      "text/plain": [
       "<Figure size 864x432 with 1 Axes>"
      ]
     },
     "metadata": {
      "needs_background": "light"
     },
     "output_type": "display_data"
    },
    {
     "data": {
      "text/html": [
       "<div>\n",
       "<style scoped>\n",
       "    .dataframe tbody tr th:only-of-type {\n",
       "        vertical-align: middle;\n",
       "    }\n",
       "\n",
       "    .dataframe tbody tr th {\n",
       "        vertical-align: top;\n",
       "    }\n",
       "\n",
       "    .dataframe thead th {\n",
       "        text-align: right;\n",
       "    }\n",
       "</style>\n",
       "<table border=\"1\" class=\"dataframe\">\n",
       "  <thead>\n",
       "    <tr style=\"text-align: right;\">\n",
       "      <th>member_casual</th>\n",
       "      <th>casual</th>\n",
       "      <th>member</th>\n",
       "    </tr>\n",
       "    <tr>\n",
       "      <th>day_of_week</th>\n",
       "      <th></th>\n",
       "      <th></th>\n",
       "    </tr>\n",
       "  </thead>\n",
       "  <tbody>\n",
       "    <tr>\n",
       "      <th>Friday</th>\n",
       "      <td>354231</td>\n",
       "      <td>451544</td>\n",
       "    </tr>\n",
       "    <tr>\n",
       "      <th>Monday</th>\n",
       "      <td>297138</td>\n",
       "      <td>457948</td>\n",
       "    </tr>\n",
       "    <tr>\n",
       "      <th>Saturday</th>\n",
       "      <td>537239</td>\n",
       "      <td>432462</td>\n",
       "    </tr>\n",
       "    <tr>\n",
       "      <th>Sunday</th>\n",
       "      <td>462347</td>\n",
       "      <td>386977</td>\n",
       "    </tr>\n",
       "    <tr>\n",
       "      <th>Thursday</th>\n",
       "      <td>303794</td>\n",
       "      <td>493289</td>\n",
       "    </tr>\n",
       "    <tr>\n",
       "      <th>Tuesday</th>\n",
       "      <td>282424</td>\n",
       "      <td>515950</td>\n",
       "    </tr>\n",
       "    <tr>\n",
       "      <th>Wednesday</th>\n",
       "      <td>281287</td>\n",
       "      <td>503835</td>\n",
       "    </tr>\n",
       "  </tbody>\n",
       "</table>\n",
       "</div>"
      ],
      "text/plain": [
       "member_casual  casual  member\n",
       "day_of_week                  \n",
       "Friday         354231  451544\n",
       "Monday         297138  457948\n",
       "Saturday       537239  432462\n",
       "Sunday         462347  386977\n",
       "Thursday       303794  493289\n",
       "Tuesday        282424  515950\n",
       "Wednesday      281287  503835"
      ]
     },
     "execution_count": 26,
     "metadata": {},
     "output_type": "execute_result"
    }
   ],
   "source": [
    "df=data.groupby(['day_of_week', 'member_casual']).count().ride_id\n",
    "    \n",
    "df=df.unstack().fillna(0)\n",
    "    \n",
    "ax=df.plot(kind='line',\n",
    "                grid=True,\n",
    "                figsize=(12, 6),\n",
    "                color=['#069AF3', '#F97306'])\n",
    "\n",
    "ax.set_title('Average Ride Length')\n",
    "ax.set_ylabel('Number of rides')\n",
    "ax.set_xlabel('Day of week')\n",
    "\n",
    "plt.show();\n",
    "    \n",
    "df"
   ]
  },
  {
   "cell_type": "code",
   "execution_count": null,
   "id": "2647fa67-5b30-4db6-b9a3-aeef74c27bf7",
   "metadata": {},
   "outputs": [],
   "source": []
  },
  {
   "cell_type": "markdown",
   "id": "e807585e-3a4b-4831-bed7-65a10171172b",
   "metadata": {},
   "source": [
    "## 6. Act"
   ]
  },
  {
   "cell_type": "markdown",
   "id": "dc65e340-95bb-4e5c-95b7-503836de901a",
   "metadata": {},
   "source": [
    "##### At this point it is time to present our key findings and communicate our recommendations to the Cyclistic marketing team."
   ]
  },
  {
   "cell_type": "markdown",
   "id": "f315ea7e-eeb0-442a-8197-0f2ef2d842d6",
   "metadata": {},
   "source": [
    "#### **Key Findings.**  \n",
    "* Annual members are the majority of users, making up for 56% of Cyclistic's customers.  \n",
    "* The average time per trip of casual riders is even more than annual customers.\n",
    "* Casual riders, as well as members, take longer rides on the weekends.\n",
    "* Member riders take more trips on weekends, while casual riders take more trips Tuesday through Thursday."
   ]
  },
  {
   "cell_type": "markdown",
   "id": "2192928a-5d52-4cc3-9adc-810f3b117590",
   "metadata": {},
   "source": [
    "#### **Recomendations.**\n",
    "* Increase marketing campaign targeted at casual riders through email and app notifications. The ads could offer special discounts for the annual membership in order to encourage casual riders to make the switch.  \n",
    "* Since casual cyclists don't rent bikes as much as members do on the weekends, Cyclistic's marketing team should also consider creating different membership types.  \n",
    "* Cyclistic could look into partnering with local businesses and offering deals at places like gyms, movie theaters, bars, restaurants... Focusing on these entertainment segments could incentivize casual riders to sign up for annual membership."
   ]
  }
 ],
 "metadata": {
  "kernelspec": {
   "display_name": "Python 3",
   "language": "python",
   "name": "python3"
  },
  "language_info": {
   "codemirror_mode": {
    "name": "ipython",
    "version": 3
   },
   "file_extension": ".py",
   "mimetype": "text/x-python",
   "name": "python",
   "nbconvert_exporter": "python",
   "pygments_lexer": "ipython3",
   "version": "3.8.8"
  }
 },
 "nbformat": 4,
 "nbformat_minor": 5
}
